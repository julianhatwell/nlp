{
 "cells": [
  {
   "cell_type": "markdown",
   "metadata": {},
   "source": [
    "## Instructions"
   ]
  },
  {
   "cell_type": "markdown",
   "metadata": {},
   "source": [
    "Which Novel Do I Belong To?\n",
    "\n",
    "In this task, you are expected to train a Machine Learning model that classifies a given line as belonging to one of the following 12 novels:\n",
    "\n",
    "0: alice_in_wonderland <br>\n",
    "1: dracula <br>\n",
    "2: dubliners <br>\n",
    "3: great_expectations <br>\n",
    "4: hard_times <br>\n",
    "5: huckleberry_finn <br>\n",
    "6: les_miserable <br>\n",
    "7: moby_dick <br>\n",
    "8: oliver_twist <br>\n",
    "9: peter_pan <br>\n",
    "10: tale_of_two_cities <br>\n",
    "11: tom_sawyer <br>\n",
    "\n",
    "\n",
    "Description:\n",
    "\n",
    "You are provided with a zip file (offline_challenge.zip) containing three text files - xtrain.txt, ytrain.txt, xtest.txt. Each line in xtrain.txt and xtest.txt comes from a different novel. The data has been obfuscated, however the patterns in them are preserved. The novel ids corresponding to xtrain.txt are specified in ytrain.txt. You can use these labels to train a Machine Learning model (Deep Learning preferred).\n",
    "\n",
    "With the learned model, predict the novel ids of the lines in xtest.txt (one prediction per line). As part of your submission, include\n",
    "\n",
    "a) your predictions in a file named ytest.txt (in the same format as ytrain.txt) <br>\n",
    "b) Expected accuracy on the test set <br>\n",
    "c) the source code for training and prediction (< 10MB) <br>\n",
    "d) a brief description of your method (optional) <br>\n",
    "\n",
    "\n"
   ]
  },
  {
   "cell_type": "markdown",
   "metadata": {},
   "source": [
    "# Introduction"
   ]
  },
  {
   "cell_type": "code",
   "execution_count": 1,
   "metadata": {},
   "outputs": [],
   "source": [
    "%matplotlib inline\n",
    "import matplotlib.pyplot as plt"
   ]
  },
  {
   "cell_type": "code",
   "execution_count": 2,
   "metadata": {},
   "outputs": [
    {
     "name": "stderr",
     "output_type": "stream",
     "text": [
      "/home/julianhatwell/anaconda3/envs/pytonu/lib/python3.7/site-packages/tensorflow/python/framework/dtypes.py:516: FutureWarning: Passing (type, 1) or '1type' as a synonym of type is deprecated; in a future version of numpy, it will be understood as (type, (1,)) / '(1,)type'.\n",
      "  _np_qint8 = np.dtype([(\"qint8\", np.int8, 1)])\n",
      "/home/julianhatwell/anaconda3/envs/pytonu/lib/python3.7/site-packages/tensorflow/python/framework/dtypes.py:517: FutureWarning: Passing (type, 1) or '1type' as a synonym of type is deprecated; in a future version of numpy, it will be understood as (type, (1,)) / '(1,)type'.\n",
      "  _np_quint8 = np.dtype([(\"quint8\", np.uint8, 1)])\n",
      "/home/julianhatwell/anaconda3/envs/pytonu/lib/python3.7/site-packages/tensorflow/python/framework/dtypes.py:518: FutureWarning: Passing (type, 1) or '1type' as a synonym of type is deprecated; in a future version of numpy, it will be understood as (type, (1,)) / '(1,)type'.\n",
      "  _np_qint16 = np.dtype([(\"qint16\", np.int16, 1)])\n",
      "/home/julianhatwell/anaconda3/envs/pytonu/lib/python3.7/site-packages/tensorflow/python/framework/dtypes.py:519: FutureWarning: Passing (type, 1) or '1type' as a synonym of type is deprecated; in a future version of numpy, it will be understood as (type, (1,)) / '(1,)type'.\n",
      "  _np_quint16 = np.dtype([(\"quint16\", np.uint16, 1)])\n",
      "/home/julianhatwell/anaconda3/envs/pytonu/lib/python3.7/site-packages/tensorflow/python/framework/dtypes.py:520: FutureWarning: Passing (type, 1) or '1type' as a synonym of type is deprecated; in a future version of numpy, it will be understood as (type, (1,)) / '(1,)type'.\n",
      "  _np_qint32 = np.dtype([(\"qint32\", np.int32, 1)])\n",
      "/home/julianhatwell/anaconda3/envs/pytonu/lib/python3.7/site-packages/tensorflow/python/framework/dtypes.py:525: FutureWarning: Passing (type, 1) or '1type' as a synonym of type is deprecated; in a future version of numpy, it will be understood as (type, (1,)) / '(1,)type'.\n",
      "  np_resource = np.dtype([(\"resource\", np.ubyte, 1)])\n",
      "/home/julianhatwell/anaconda3/envs/pytonu/lib/python3.7/site-packages/tensorboard/compat/tensorflow_stub/dtypes.py:541: FutureWarning: Passing (type, 1) or '1type' as a synonym of type is deprecated; in a future version of numpy, it will be understood as (type, (1,)) / '(1,)type'.\n",
      "  _np_qint8 = np.dtype([(\"qint8\", np.int8, 1)])\n",
      "/home/julianhatwell/anaconda3/envs/pytonu/lib/python3.7/site-packages/tensorboard/compat/tensorflow_stub/dtypes.py:542: FutureWarning: Passing (type, 1) or '1type' as a synonym of type is deprecated; in a future version of numpy, it will be understood as (type, (1,)) / '(1,)type'.\n",
      "  _np_quint8 = np.dtype([(\"quint8\", np.uint8, 1)])\n",
      "/home/julianhatwell/anaconda3/envs/pytonu/lib/python3.7/site-packages/tensorboard/compat/tensorflow_stub/dtypes.py:543: FutureWarning: Passing (type, 1) or '1type' as a synonym of type is deprecated; in a future version of numpy, it will be understood as (type, (1,)) / '(1,)type'.\n",
      "  _np_qint16 = np.dtype([(\"qint16\", np.int16, 1)])\n",
      "/home/julianhatwell/anaconda3/envs/pytonu/lib/python3.7/site-packages/tensorboard/compat/tensorflow_stub/dtypes.py:544: FutureWarning: Passing (type, 1) or '1type' as a synonym of type is deprecated; in a future version of numpy, it will be understood as (type, (1,)) / '(1,)type'.\n",
      "  _np_quint16 = np.dtype([(\"quint16\", np.uint16, 1)])\n",
      "/home/julianhatwell/anaconda3/envs/pytonu/lib/python3.7/site-packages/tensorboard/compat/tensorflow_stub/dtypes.py:545: FutureWarning: Passing (type, 1) or '1type' as a synonym of type is deprecated; in a future version of numpy, it will be understood as (type, (1,)) / '(1,)type'.\n",
      "  _np_qint32 = np.dtype([(\"qint32\", np.int32, 1)])\n",
      "/home/julianhatwell/anaconda3/envs/pytonu/lib/python3.7/site-packages/tensorboard/compat/tensorflow_stub/dtypes.py:550: FutureWarning: Passing (type, 1) or '1type' as a synonym of type is deprecated; in a future version of numpy, it will be understood as (type, (1,)) / '(1,)type'.\n",
      "  np_resource = np.dtype([(\"resource\", np.ubyte, 1)])\n"
     ]
    }
   ],
   "source": [
    "from collections import defaultdict\n",
    "from pathlib import Path\n",
    "\n",
    "import fasttext\n",
    "import numpy as np\n",
    "\n",
    "from sklearn.metrics import classification_report, confusion_matrix, ConfusionMatrixDisplay\n",
    "from sklearn.model_selection import train_test_split\n",
    "from tensorflow.keras import Sequential\n",
    "from tensorflow.keras.callbacks import EarlyStopping, ModelCheckpoint\n",
    "from tensorflow.keras.layers import Conv1D, Dense, Dropout, Embedding, Flatten, MaxPooling1D\n",
    "from tensorflow.keras.optimizers import Adam\n",
    "from tensorflow.keras.preprocessing.text import Tokenizer\n",
    "from tensorflow.keras.preprocessing.sequence import pad_sequences\n",
    "from tensorflow.keras.utils import to_categorical\n",
    "\n",
    "import utils as utils"
   ]
  },
  {
   "cell_type": "code",
   "execution_count": 3,
   "metadata": {},
   "outputs": [],
   "source": [
    "plt.rcParams['figure.figsize'] = 10, 10\n",
    "colors = plt.rcParams['axes.prop_cycle'].by_key()['color']"
   ]
  },
  {
   "cell_type": "markdown",
   "metadata": {},
   "source": [
    "Independent of the outcome, I want to say thank you for the challenge. It is a plain machine learning task, where I don't have to deal with hour long feature engineering or the exploration of unknown data formats/ python frameworks. And the task looks like fun. 😊\n",
    "\n",
    "First, let's have a look at data. \n",
    "\n",
    "So, let's have a look at the authors first:\n",
    "\n",
    "0: alice_in_wonderland - Lewis Carroll - 1865 <br>\n",
    "1: dracula  - Bram Stoker - 1897 <br>\n",
    "2: dubliners - James Joyce - 1914 <br>\n",
    "3: great_expectations - Charles Dickens - 1861 <br>\n",
    "4: hard_times - Charles Dickens - 1854 <br>\n",
    "5: huckleberry_finn - Mark Twain - 1884 <br>\n",
    "6: les_miserable - Victor Hugo - 1862 <br>\n",
    "7: moby_dick - Herman Melville - 1851<br>\n",
    "8: oliver_twist - Charles Dickens - 1836 <br>\n",
    "9: peter_pan - J. M. Barrie - 1904 <br>\n",
    "10: tale_of_two_cities - Charles Dickens - 1859 <br>\n",
    "11: tom_sawyer - Mark Twain - 1876 <br>\n",
    "\n",
    "There are multiple novels written by the same author. So I would expect, that there will be some classification errors between 5 and 11 (Mark Twain) and between 3, 4, 8 and 10 (Charles Dickens). The personal writing style of an author shouldn't change too much.\n",
    "In general most of the novels, where written in the middle of the 19th century (except 2, which is part of the modernity). So I would expect a similar vocabulary. "
   ]
  },
  {
   "cell_type": "code",
   "execution_count": 4,
   "metadata": {},
   "outputs": [],
   "source": [
    "folder_path = Path(\"./data/offline_challenge/\")\n",
    "training_file = \"xtrain_obfuscated.txt\"\n",
    "label_file = \"ytrain.txt\"\n",
    "test_file = \"xtest_obfuscated.txt\"\n",
    "results_file = \"ytest.txt\"\n",
    "\n",
    "seed = 12345\n",
    "train_val_split = 0.8"
   ]
  },
  {
   "cell_type": "code",
   "execution_count": 5,
   "metadata": {},
   "outputs": [],
   "source": [
    "label_list = [\"alice_in_wonderland\",\n",
    "              \"dracula\",\n",
    "              \"dubliners\",\n",
    "              \"great_expectations\",\n",
    "              \"hard_times\",\n",
    "              \"huckleberry_finn\",\n",
    "              \"les_miserable\",\n",
    "              \"moby_dick\",\n",
    "              \"oliver_twist\",\n",
    "              \"peter_pan\",\n",
    "              \"tale_of_two_cities\",\n",
    "              \"tom_sawyer\"]"
   ]
  },
  {
   "cell_type": "code",
   "execution_count": 6,
   "metadata": {},
   "outputs": [],
   "source": [
    "training_data = utils.load_text(Path(folder_path, training_file))\n",
    "test_data = utils.load_text(Path(folder_path, test_file))\n",
    "\n",
    "labels = utils.load_text(Path(folder_path, label_file))"
   ]
  },
  {
   "cell_type": "markdown",
   "metadata": {},
   "source": [
    "\"Call me Ishmael.\" is how Moby Dick starts, but in our example it's \"satwamuluhqgu\". The text is obfuscated and there are no whitespaces or other punctuations. In total there are 26 different characters in the training data, which are all lower case (checked, but not shown here). So, here it makes sense to classify the data by character sequence or character n-grams. "
   ]
  },
  {
   "cell_type": "code",
   "execution_count": 7,
   "metadata": {},
   "outputs": [
    {
     "name": "stdout",
     "output_type": "stream",
     "text": [
      "7\n",
      "satwamuluhqgulamlrmvezuhqvkrpmletwulcitwskuhlemvtwamuluhiwiwenuhlrvimvqvkruhulenamuluhqgqvtwvimviwuhtwamuluhulqvkrenamcitwuhvipmpmqvuhskiwkrpmdfuhlrvimvskvikrpmqvuhskmvgzenleuhqvmvamuluhulenamuluhqvletwtwvipmpmgzleenamuhtwamuluhtwletwdfuhiwkrxeleentwxeuhpmqvuhtwiwmvamdfuhpkeztwamuluhvimvuhqvtwmkpmpmlelruhgztwtwskuhtwlrkrpmlruhpmuluhqvenuhtwyplepmxeuhenuhamypkrqvuhamulmvdfuhqvskentwamletwlrlrpmiwuhtwamul\n"
     ]
    }
   ],
   "source": [
    "print(labels[0])\n",
    "print(training_data[0])"
   ]
  },
  {
   "cell_type": "markdown",
   "metadata": {},
   "source": [
    "## Baseline"
   ]
  },
  {
   "cell_type": "markdown",
   "metadata": {},
   "source": [
    "As you see the labels are not evenly distributed. There are much more samples of Moby Dick than e.g. of Alice in wonderland. This is important for a stratified train/test split. I take a split of 80/20 for the training and validation set. I already have a test set, but the evaluation is not in my hands. <br>\n",
    "Also a better approach for hyperparameter search is in general cross-validation, but based on time and scope of this task, I prefer just to mention it. "
   ]
  },
  {
   "cell_type": "code",
   "execution_count": 8,
   "metadata": {},
   "outputs": [
    {
     "data": {
      "text/plain": [
       "[('7', 5097),\n",
       " ('6', 4226),\n",
       " ('3', 4023),\n",
       " ('8', 3634),\n",
       " ('1', 3459),\n",
       " ('10', 3052),\n",
       " ('4', 2337),\n",
       " ('5', 2283),\n",
       " ('2', 1471),\n",
       " ('11', 1408),\n",
       " ('9', 980),\n",
       " ('0', 543)]"
      ]
     },
     "execution_count": 8,
     "metadata": {},
     "output_type": "execute_result"
    }
   ],
   "source": [
    "label_counter = utils.counter(labels)\n",
    "sorted(label_counter.items(), key=lambda item: item[1], reverse=True)"
   ]
  },
  {
   "cell_type": "code",
   "execution_count": 9,
   "metadata": {},
   "outputs": [],
   "source": [
    "X_train, X_val, y_train, y_val = train_test_split(\n",
    "    np.array(training_data),  \n",
    "    np.array(labels), \n",
    "    test_size=1-train_val_split, \n",
    "    train_size=train_val_split, \n",
    "    random_state=seed, \n",
    "    shuffle=True, \n",
    "    stratify=np.array(labels)\n",
    ")"
   ]
  },
  {
   "cell_type": "markdown",
   "metadata": {},
   "source": [
    "Short check, if the labels are correctly stratified."
   ]
  },
  {
   "cell_type": "code",
   "execution_count": 10,
   "metadata": {},
   "outputs": [
    {
     "name": "stdout",
     "output_type": "stream",
     "text": [
      "0.200\n",
      "0.200\n",
      "0.200\n",
      "0.200\n",
      "0.200\n",
      "0.200\n",
      "0.200\n",
      "0.200\n",
      "0.200\n",
      "0.200\n",
      "0.200\n",
      "0.201\n"
     ]
    }
   ],
   "source": [
    "# counter_y_train = utils.counter(y_train)\n",
    "counter_y_val = utils.counter(y_val)\n",
    "\n",
    "for k in counter_y_val.keys():\n",
    "    print(f\"{counter_y_val[k]/label_counter[k]:.3f}\")"
   ]
  },
  {
   "cell_type": "markdown",
   "metadata": {},
   "source": [
    "As a simple baseline I want to use the fasttext library (https://fasttext.cc/) from facebook and developed from Tomas Mikolov (word2vec creator). In practice, I use it as a standard tool for simple nlp tasks (for me, mostly the creation of language specific word embeddings). I don't have much experience with text classification. It is quite powerful, very fast and very simple to use. The main idea is to use character n-grams, which fits perfectly to our training data.\n",
    "\n",
    "Basically, it is a linear model with a softmax layer to compute the probabilities of each predefined class. The model is trained via stochastic gradient descent and learning rate decay.\n",
    "\n",
    "Paper: <br>\n",
    "    - classification: https://arxiv.org/pdf/1607.01759.pdf <br>\n",
    "    - word representations: https://arxiv.org/pdf/1607.04606.pdf <br>"
   ]
  },
  {
   "cell_type": "code",
   "execution_count": 11,
   "metadata": {},
   "outputs": [],
   "source": [
    "baseline_train_name = Path(folder_path, \"baseline_train.txt\")\n",
    "baseline_val_name = Path(folder_path, \"baseline_val.txt\")\n",
    "\n",
    "utils.write_fasttext_text(Path(baseline_train_name), X_train, y_train)\n",
    "utils.write_fasttext_text(Path(baseline_val_name), X_val, y_val)"
   ]
  },
  {
   "cell_type": "markdown",
   "metadata": {},
   "source": [
    "Also this library comes with an automated hyperparameter optimization. So I don't need to use GridSearch or other methods. Since it is a simple baseline, let's see, if I give it 5 minutes for optimizing the F1-Score. "
   ]
  },
  {
   "cell_type": "code",
   "execution_count": 18,
   "metadata": {},
   "outputs": [],
   "source": [
    "model = fasttext.train_supervised(input=str(baseline_train_name),\n",
    "                                  autotuneValidationFile=str(baseline_val_name),\n",
    "                                  autotuneDuration=300)"
   ]
  },
  {
   "cell_type": "markdown",
   "metadata": {},
   "source": [
    "One disadvantage of the fasttext model is, that it is very big. They implemented a method to reduce the size, but also the precision and recall will drop a bit. And in general, this reduction takes too much time, so I go for the 1,4 GB file."
   ]
  },
  {
   "cell_type": "code",
   "execution_count": 19,
   "metadata": {},
   "outputs": [],
   "source": [
    "# model.quantize()"
   ]
  },
  {
   "cell_type": "code",
   "execution_count": 20,
   "metadata": {},
   "outputs": [],
   "source": [
    "model.save_model(\"fasttext_homework.bin\")\n"
   ]
  },
  {
   "cell_type": "markdown",
   "metadata": {},
   "source": [
    "So, the model has a precision and recall of around 83,4 % for the top1 prediction. This is pretty good for an out of the pocket solution with zero work. "
   ]
  },
  {
   "cell_type": "code",
   "execution_count": 22,
   "metadata": {},
   "outputs": [
    {
     "name": "stdout",
     "output_type": "stream",
     "text": [
      "(6503, 0.8357681070275258, 0.8357681070275258)\n"
     ]
    }
   ],
   "source": [
    "print(model.test(str(baseline_val_name)))"
   ]
  },
  {
   "cell_type": "code",
   "execution_count": 23,
   "metadata": {},
   "outputs": [],
   "source": [
    "y_hat = []\n",
    "y_prob = []\n",
    "\n",
    "for text in X_val:\n",
    "    result = model.predict(text)\n",
    "    \n",
    "    y_hat.append(int(result[0][0].replace(\"__label__\", \"\")))\n",
    "    y_prob.append(result[1][0])"
   ]
  },
  {
   "cell_type": "code",
   "execution_count": 24,
   "metadata": {},
   "outputs": [],
   "source": [
    "y_val = [int(i) for i in y_val]"
   ]
  },
  {
   "cell_type": "markdown",
   "metadata": {},
   "source": [
    "The overall F1-Score is at 0.83. The model has some problems with Charles Dickens' - Tale of two cities and Mark Twain's - Tom Sawyer. For Tom Sawyer, I would guess, we could achieve a better solution with more data. Strangely there is no overlap with Huckleberry Finn from the same author. E.g. Alice in Wonderland has less data, but a higher F1-Score. But also the story is quite unique for this book. \n",
    "With Tale of two cities are many misclassifications with Great Expectations and vice versa, also from Charles Dickens. I haven't read any of those both books, so I can't say, how similar they are. But since the model mixes up the prediction between both books, I assume they are quite similiar."
   ]
  },
  {
   "cell_type": "code",
   "execution_count": 28,
   "metadata": {},
   "outputs": [
    {
     "name": "stdout",
     "output_type": "stream",
     "text": [
      "                     precision    recall  f1-score   support\n",
      "\n",
      "alice_in_wonderland       0.90      0.78      0.84       109\n",
      "            dracula       0.82      0.85      0.84       692\n",
      "          dubliners       0.81      0.79      0.80       294\n",
      " great_expectations       0.80      0.80      0.80       805\n",
      "         hard_times       0.88      0.85      0.86       467\n",
      "   huckleberry_finn       0.94      0.92      0.93       457\n",
      "      les_miserable       0.83      0.88      0.86       845\n",
      "          moby_dick       0.86      0.90      0.88      1019\n",
      "       oliver_twist       0.87      0.86      0.86       727\n",
      "          peter_pan       0.80      0.69      0.75       196\n",
      " tale_of_two_cities       0.75      0.70      0.72       610\n",
      "         tom_sawyer       0.77      0.75      0.76       282\n",
      "\n",
      "           accuracy                           0.84      6503\n",
      "          macro avg       0.84      0.81      0.82      6503\n",
      "       weighted avg       0.84      0.84      0.83      6503\n",
      "\n"
     ]
    }
   ],
   "source": [
    "print(classification_report(y_val, y_hat, target_names=label_list))"
   ]
  },
  {
   "cell_type": "code",
   "execution_count": 29,
   "metadata": {},
   "outputs": [
    {
     "data": {
      "text/plain": [
       "<sklearn.metrics._plot.confusion_matrix.ConfusionMatrixDisplay at 0x7fc6111ede10>"
      ]
     },
     "execution_count": 29,
     "metadata": {},
     "output_type": "execute_result"
    },
    {
     "data": {
      "image/png": "[encoded data removed]",
      "text/plain": [
       "<Figure size 720x720 with 2 Axes>"
      ]
     },
     "metadata": {
      "needs_background": "light"
     },
     "output_type": "display_data"
    }
   ],
   "source": [
    "cm = confusion_matrix(y_val, y_hat)\n",
    "disp = ConfusionMatrixDisplay(confusion_matrix=cm,\n",
    "                              display_labels=label_list)\n",
    "\n",
    "disp.plot(xticks_rotation=\"vertical\") "
   ]
  },
  {
   "cell_type": "markdown",
   "metadata": {},
   "source": [
    "The hyperparameters are look except as the model dimension and the learning rate as sane. The learning rate is with 5 very high. I would have never choosen this parameter, since I wouldn't expect thath the training loss would converge during training. Also the model dimension of 540 parameters/nodes seems a bit big to me. Also the model splits the words in character n-grams from 3 to 6 characters.  \n",
    "\n",
    "But in the end, the results matters and I'm confident with an F1-Score of 0.83."
   ]
  },
  {
   "cell_type": "code",
   "execution_count": 30,
   "metadata": {},
   "outputs": [
    {
     "name": "stdout",
     "output_type": "stream",
     "text": [
      "Number of epochs 100\n",
      "Initial learning rate 0.10522187477439467\n",
      "Model dimension 64\n",
      "Size of the context window 5\n",
      "Number of negatice sampled 5\n",
      "Loss function loss_name.softmax\n",
      "\n",
      "\n",
      "Minimal number of word occurances 1\n",
      "Minimal number of character ngram 3\n",
      "Maximal number of character ngram 6\n",
      "Maximal length of word ngram 1\n",
      "\n",
      "\n",
      "Number of trained words 26011\n"
     ]
    }
   ],
   "source": [
    "print(f\"Number of epochs {model.epoch}\")\n",
    "print(f\"Initial learning rate {model.lr}\")\n",
    "print(f\"Model dimension {model.dim}\")\n",
    "print(f\"Size of the context window {model.ws}\")\n",
    "print(f\"Number of negatice sampled {model.neg}\")\n",
    "print(f\"Loss function {model.loss}\")\n",
    "print(\"\\n\")\n",
    "print(f\"Minimal number of word occurances {model.minCount}\")\n",
    "print(f\"Minimal number of character ngram {model.minn}\")\n",
    "print(f\"Maximal number of character ngram {model.maxn}\")\n",
    "print(f\"Maximal length of word ngram {model.wordNgrams}\")\n",
    "print(\"\\n\")\n",
    "print(f\"Number of trained words {len(model.words)}\")"
   ]
  },
  {
   "cell_type": "markdown",
   "metadata": {},
   "source": [
    "## DeepLearning Model"
   ]
  },
  {
   "cell_type": "markdown",
   "metadata": {},
   "source": [
    "So, the current approach seems good, but it feels a bit like a script kiddie approach. As a next step, the use of an LSTM would be logical. LSTMs uses the text as a sequence of words/characters and capture the character dependencies in this task. Since I have already a good enough baseline, I want to learn something new and train a character CNN, e.g. the one, which is mentioned in the fasttext paper. \n",
    "\n",
    "\n",
    "paper:\n",
    "- https://arxiv.org/pdf/1509.01626.pdf"
   ]
  },
  {
   "cell_type": "markdown",
   "metadata": {},
   "source": [
    "In general I work with pytorch, but debugging took really too much time (I wanted to have a dataloader + pytorch lightning), I switched back to keras.\n",
    "\n",
    "Since the total length of each sentence isn't that high, I can use more filters and a slightly reduced pooling size."
   ]
  },
  {
   "cell_type": "code",
   "execution_count": 31,
   "metadata": {},
   "outputs": [],
   "source": [
    "n_filters = 512\n",
    "hidden_layer = 1024\n",
    "pool_size = 2\n",
    "dropout = 0.5\n",
    "learning_rate = 0.001\n",
    "batch_size=128\n",
    "epochs=100\n",
    "loss = \"categorical_crossentropy\"\n",
    "\n",
    "n_characters = 26\n",
    "n_classes = len(set(labels))"
   ]
  },
  {
   "cell_type": "markdown",
   "metadata": {},
   "source": [
    "Check if the training_data is still there"
   ]
  },
  {
   "cell_type": "code",
   "execution_count": 32,
   "metadata": {},
   "outputs": [
    {
     "data": {
      "text/plain": [
       "'satwamuluhqgulamlrmvezuhqvkrpmletwulcitwskuhlemvtwamuluhiwiwenuhlrvimvqvkruhulenamuluhqgqvtwvimviwuhtwamuluhulqvkrenamcitwuhvipmpmqvuhskiwkrpmdfuhlrvimvskvikrpmqvuhskmvgzenleuhqvmvamuluhulenamuluhqvletwtwvipmpmgzleenamuhtwamuluhtwletwdfuhiwkrxeleentwxeuhpmqvuhtwiwmvamdfuhpkeztwamuluhvimvuhqvtwmkpmpmlelruhgztwtwskuhtwlrkrpmlruhpmuluhqvenuhtwyplepmxeuhenuhamypkrqvuhamulmvdfuhqvskentwamletwlrlrpmiwuhtwamul'"
      ]
     },
     "execution_count": 32,
     "metadata": {},
     "output_type": "execute_result"
    }
   ],
   "source": [
    "training_data[0]"
   ]
  },
  {
   "cell_type": "markdown",
   "metadata": {},
   "source": [
    "In this approach, I need to do a bit of preprocessing. \n",
    "I convert the characters of the training data to int. Also I make sure, that every training sample has the same length by adding zeros to the end.\n",
    "\n",
    "For the labels, I use one-hot-encoding."
   ]
  },
  {
   "cell_type": "code",
   "execution_count": 33,
   "metadata": {},
   "outputs": [],
   "source": [
    "training_int_data = [utils.convert_char_to_int(i) for i in training_data]\n",
    "training_int_labels = [int(i) for i in labels]\n",
    "\n",
    "max_len = max(len(i) for i in training_int_data)\n",
    "\n",
    "training_int_data = pad_sequences(training_int_data, maxlen=max_len, padding='post')\n",
    "training_int_data = np.array(training_int_data, dtype='float32')\n",
    "\n",
    "training_classes = to_categorical(training_int_labels)"
   ]
  },
  {
   "cell_type": "code",
   "execution_count": 34,
   "metadata": {},
   "outputs": [],
   "source": [
    "embedding_weights = []\n",
    "embedding_weights.append(np.zeros(n_characters))\n",
    "\n",
    "for i in range(n_characters):\n",
    "    \n",
    "    one_hot_encoded_char = np.zeros(n_characters)\n",
    "    one_hot_encoded_char[i] = 1\n",
    "    embedding_weights.append(one_hot_encoded_char)\n",
    "    \n",
    "embedding_weights = np.array(embedding_weights)"
   ]
  },
  {
   "cell_type": "markdown",
   "metadata": {},
   "source": [
    "Following the paper, I use 6 Conv1D-layers with max pooling for dimension reduction. Also I use three fully connected layers with dropout layers. All layers use ReLu as activation function, except a softmax for the last layer. \n",
    "\n",
    "AS an optimizer I pick Adam, since this algorithm converges comparable fast. "
   ]
  },
  {
   "cell_type": "code",
   "execution_count": 35,
   "metadata": {},
   "outputs": [
    {
     "name": "stdout",
     "output_type": "stream",
     "text": [
      "WARNING:tensorflow:From /home/julianhatwell/anaconda3/envs/pytonu/lib/python3.7/site-packages/tensorflow/python/keras/initializers.py:119: calling RandomUniform.__init__ (from tensorflow.python.ops.init_ops) with dtype is deprecated and will be removed in a future version.\n",
      "Instructions for updating:\n",
      "Call initializer instance with the dtype argument instead of passing it to the constructor\n",
      "WARNING:tensorflow:From /home/julianhatwell/anaconda3/envs/pytonu/lib/python3.7/site-packages/tensorflow/python/ops/init_ops.py:1251: calling VarianceScaling.__init__ (from tensorflow.python.ops.init_ops) with dtype is deprecated and will be removed in a future version.\n",
      "Instructions for updating:\n",
      "Call initializer instance with the dtype argument instead of passing it to the constructor\n",
      "Model: \"sequential\"\n",
      "_________________________________________________________________\n",
      "Layer (type)                 Output Shape              Param #   \n",
      "=================================================================\n",
      "embedding (Embedding)        (None, 452, 26)           702       \n",
      "_________________________________________________________________\n",
      "conv1d (Conv1D)              (None, 446, 512)          93696     \n",
      "_________________________________________________________________\n",
      "max_pooling1d (MaxPooling1D) (None, 223, 512)          0         \n",
      "_________________________________________________________________\n",
      "conv1d_1 (Conv1D)            (None, 217, 512)          1835520   \n",
      "_________________________________________________________________\n",
      "max_pooling1d_1 (MaxPooling1 (None, 108, 512)          0         \n",
      "_________________________________________________________________\n",
      "conv1d_2 (Conv1D)            (None, 106, 512)          786944    \n",
      "_________________________________________________________________\n",
      "conv1d_3 (Conv1D)            (None, 104, 512)          786944    \n",
      "_________________________________________________________________\n",
      "conv1d_4 (Conv1D)            (None, 102, 512)          786944    \n",
      "_________________________________________________________________\n",
      "conv1d_5 (Conv1D)            (None, 100, 512)          786944    \n",
      "_________________________________________________________________\n",
      "max_pooling1d_2 (MaxPooling1 (None, 50, 512)           0         \n",
      "_________________________________________________________________\n",
      "flatten (Flatten)            (None, 25600)             0         \n",
      "_________________________________________________________________\n",
      "dense (Dense)                (None, 1024)              26215424  \n",
      "_________________________________________________________________\n",
      "dropout (Dropout)            (None, 1024)              0         \n",
      "_________________________________________________________________\n",
      "dense_1 (Dense)              (None, 1024)              1049600   \n",
      "_________________________________________________________________\n",
      "dropout_1 (Dropout)          (None, 1024)              0         \n",
      "_________________________________________________________________\n",
      "dense_2 (Dense)              (None, 12)                12300     \n",
      "=================================================================\n",
      "Total params: 32,355,018\n",
      "Trainable params: 32,355,018\n",
      "Non-trainable params: 0\n",
      "_________________________________________________________________\n"
     ]
    }
   ],
   "source": [
    "model = Sequential()\n",
    "\n",
    "model.add(\n",
    "    Embedding(\n",
    "        n_characters + 1, n_characters, input_length=max_len, weights=[embedding_weights]\n",
    "    )\n",
    ")\n",
    "\n",
    "model.add(Conv1D(n_filters, 7, activation=\"relu\"))\n",
    "model.add(MaxPooling1D(pool_size=pool_size))\n",
    "model.add(Conv1D(n_filters, 7, activation=\"relu\"))\n",
    "model.add(MaxPooling1D(pool_size=pool_size))\n",
    "model.add(Conv1D(n_filters, 3, activation=\"relu\"))\n",
    "model.add(Conv1D(n_filters, 3, activation=\"relu\"))\n",
    "model.add(Conv1D(n_filters, 3, activation=\"relu\"))\n",
    "model.add(Conv1D(n_filters, 3, activation=\"relu\"))\n",
    "model.add(MaxPooling1D(pool_size=pool_size))\n",
    "model.add(Flatten())\n",
    "\n",
    "model.add(Dense(hidden_layer, activation=\"relu\",))\n",
    "model.add(Dropout(dropout))\n",
    "model.add(Dense(hidden_layer, activation=\"relu\"))\n",
    "model.add(Dropout(dropout))\n",
    "\n",
    "model.add(Dense(n_classes, activation=\"softmax\"))\n",
    "\n",
    "model.compile(\n",
    "    optimizer=Adam(learning_rate=learning_rate),\n",
    "    loss=\"categorical_crossentropy\", \n",
    "    metrics=[\"accuracy\"]\n",
    ")\n",
    "\n",
    "model.build(input_shape=training_int_data[0].shape)\n",
    "model.summary()"
   ]
  },
  {
   "cell_type": "markdown",
   "metadata": {},
   "source": [
    "Again a stratified split with the same seed."
   ]
  },
  {
   "cell_type": "code",
   "execution_count": 36,
   "metadata": {},
   "outputs": [],
   "source": [
    "X_train, X_val, y_train, y_val = train_test_split(\n",
    "    training_int_data,\n",
    "    training_classes,\n",
    "    test_size=1 - train_val_split,\n",
    "    train_size=train_val_split,\n",
    "    random_state=seed,\n",
    "    shuffle=True,\n",
    "    stratify=np.array(labels),\n",
    ")"
   ]
  },
  {
   "cell_type": "code",
   "execution_count": 37,
   "metadata": {},
   "outputs": [
    {
     "name": "stdout",
     "output_type": "stream",
     "text": [
      "(26010, 452)\n",
      "(26010, 12)\n"
     ]
    }
   ],
   "source": [
    "print(X_train.shape)\n",
    "print(y_train.shape)"
   ]
  },
  {
   "cell_type": "code",
   "execution_count": 38,
   "metadata": {},
   "outputs": [],
   "source": [
    "early_stopping = EarlyStopping(\n",
    "    monitor=\"val_loss\", verbose=1, patience=5, mode=\"min\", restore_best_weights=True\n",
    ")\n",
    "\n",
    "model_checkpoint = ModelCheckpoint(\"sap_homework_epoch_{epoch}.h5\")"
   ]
  },
  {
   "cell_type": "code",
   "execution_count": 39,
   "metadata": {},
   "outputs": [
    {
     "name": "stdout",
     "output_type": "stream",
     "text": [
      "Train on 26010 samples, validate on 6503 samples\n",
      "Epoch 1/100\n",
      "26010/26010 [==============================] - 520s 20ms/sample - loss: 2.2561 - acc: 0.1890 - val_loss: 2.0056 - val_acc: 0.2726\n",
      "Epoch 2/100\n",
      "26010/26010 [==============================] - 558s 21ms/sample - loss: 1.8373 - acc: 0.3398 - val_loss: 1.6145 - val_acc: 0.4304\n",
      "Epoch 3/100\n",
      "26010/26010 [==============================] - 552s 21ms/sample - loss: 1.4325 - acc: 0.4923 - val_loss: 1.3704 - val_acc: 0.5113\n",
      "Epoch 4/100\n",
      "26010/26010 [==============================] - 540s 21ms/sample - loss: 1.2481 - acc: 0.5636 - val_loss: 1.2263 - val_acc: 0.5745\n",
      "Epoch 5/100\n",
      "26010/26010 [==============================] - 564s 22ms/sample - loss: 1.0695 - acc: 0.6272 - val_loss: 1.1456 - val_acc: 0.6146\n",
      "Epoch 6/100\n",
      "26010/26010 [==============================] - 525s 20ms/sample - loss: 0.9391 - acc: 0.6722 - val_loss: 1.0116 - val_acc: 0.6559\n",
      "Epoch 7/100\n",
      "26010/26010 [==============================] - 521s 20ms/sample - loss: 0.8133 - acc: 0.7152 - val_loss: 1.0067 - val_acc: 0.6557\n",
      "Epoch 8/100\n",
      "26010/26010 [==============================] - 528s 20ms/sample - loss: 0.6978 - acc: 0.7564 - val_loss: 0.9890 - val_acc: 0.6781\n",
      "Epoch 9/100\n",
      "26010/26010 [==============================] - 547s 21ms/sample - loss: 0.6147 - acc: 0.7833 - val_loss: 1.0725 - val_acc: 0.6775\n",
      "Epoch 10/100\n",
      "26010/26010 [==============================] - 558s 21ms/sample - loss: 0.5424 - acc: 0.8120 - val_loss: 0.9575 - val_acc: 0.7034\n",
      "Epoch 11/100\n",
      "26010/26010 [==============================] - 553s 21ms/sample - loss: 0.4607 - acc: 0.8399 - val_loss: 1.0511 - val_acc: 0.7089\n",
      "Epoch 12/100\n",
      "26010/26010 [==============================] - 542s 21ms/sample - loss: 0.4017 - acc: 0.8643 - val_loss: 0.9888 - val_acc: 0.7220\n",
      "Epoch 13/100\n",
      "26010/26010 [==============================] - 552s 21ms/sample - loss: 0.3664 - acc: 0.8768 - val_loss: 1.0067 - val_acc: 0.7244\n",
      "Epoch 14/100\n",
      "26010/26010 [==============================] - 560s 22ms/sample - loss: 0.3021 - acc: 0.8963 - val_loss: 1.2055 - val_acc: 0.7314\n",
      "Epoch 15/100\n",
      "25984/26010 [============================>.] - ETA: 0s - loss: 0.3042 - acc: 0.8986Restoring model weights from the end of the best epoch.\n",
      "26010/26010 [==============================] - 552s 21ms/sample - loss: 0.3041 - acc: 0.8986 - val_loss: 1.0798 - val_acc: 0.7366\n",
      "Epoch 00015: early stopping\n"
     ]
    }
   ],
   "source": [
    "history = model.fit(\n",
    "    X_train,\n",
    "    y_train,\n",
    "    validation_data=(X_val, y_val),\n",
    "    batch_size=batch_size,\n",
    "    epochs=epochs,\n",
    "    callbacks=[early_stopping, model_checkpoint],\n",
    ")\n"
   ]
  },
  {
   "cell_type": "code",
   "execution_count": 40,
   "metadata": {},
   "outputs": [],
   "source": [
    "def plot_metrics(history):\n",
    "    metrics = [\"loss\", \"accuracy\"]\n",
    "    for n, metric in enumerate(metrics):\n",
    "        name = metric.replace(\"_\", \" \").capitalize()\n",
    "        plt.subplot(2, 2, n + 1)\n",
    "        plt.plot(\n",
    "            history.epoch, history.history[metric], color=colors[0], label=\"Train\"\n",
    "        )\n",
    "        plt.plot(\n",
    "            history.epoch,\n",
    "            history.history[\"val_\" + metric],\n",
    "            color=colors[0],\n",
    "            linestyle=\"--\",\n",
    "            label=\"Val\",\n",
    "        )\n",
    "        plt.xlabel(\"Epoch\")\n",
    "        plt.ylabel(name)\n",
    "        if metric == \"loss\":\n",
    "            plt.ylim([0, plt.ylim()[1]])\n",
    "        elif metric == \"auc\":\n",
    "            plt.ylim([0.8, 1])\n",
    "        else:\n",
    "            plt.ylim([0, 1])\n",
    "\n",
    "        plt.legend()\n"
   ]
  },
  {
   "cell_type": "markdown",
   "metadata": {},
   "source": [
    "There is no reduction of the loss after epoch 8. So early stopping restores the weight of this epoch. \n",
    "The graph for the loss shows a nice example of overfitting after epoch 8."
   ]
  },
  {
   "cell_type": "code",
   "execution_count": 41,
   "metadata": {},
   "outputs": [
    {
     "ename": "KeyError",
     "evalue": "'accuracy'",
     "output_type": "error",
     "traceback": [
      "\u001b[0;31m---------------------------------------------------------------------------\u001b[0m",
      "\u001b[0;31mKeyError\u001b[0m                                  Traceback (most recent call last)",
      "\u001b[0;32m<ipython-input-41-fee00fd956d8>\u001b[0m in \u001b[0;36m<module>\u001b[0;34m\u001b[0m\n\u001b[0;32m----> 1\u001b[0;31m \u001b[0mplot_metrics\u001b[0m\u001b[0;34m(\u001b[0m\u001b[0mhistory\u001b[0m\u001b[0;34m)\u001b[0m\u001b[0;34m\u001b[0m\u001b[0;34m\u001b[0m\u001b[0m\n\u001b[0m",
      "\u001b[0;32m<ipython-input-40-76b49db75d8b>\u001b[0m in \u001b[0;36mplot_metrics\u001b[0;34m(history)\u001b[0m\n\u001b[1;32m      5\u001b[0m         \u001b[0mplt\u001b[0m\u001b[0;34m.\u001b[0m\u001b[0msubplot\u001b[0m\u001b[0;34m(\u001b[0m\u001b[0;36m2\u001b[0m\u001b[0;34m,\u001b[0m \u001b[0;36m2\u001b[0m\u001b[0;34m,\u001b[0m \u001b[0mn\u001b[0m \u001b[0;34m+\u001b[0m \u001b[0;36m1\u001b[0m\u001b[0;34m)\u001b[0m\u001b[0;34m\u001b[0m\u001b[0;34m\u001b[0m\u001b[0m\n\u001b[1;32m      6\u001b[0m         plt.plot(\n\u001b[0;32m----> 7\u001b[0;31m             \u001b[0mhistory\u001b[0m\u001b[0;34m.\u001b[0m\u001b[0mepoch\u001b[0m\u001b[0;34m,\u001b[0m \u001b[0mhistory\u001b[0m\u001b[0;34m.\u001b[0m\u001b[0mhistory\u001b[0m\u001b[0;34m[\u001b[0m\u001b[0mmetric\u001b[0m\u001b[0;34m]\u001b[0m\u001b[0;34m,\u001b[0m \u001b[0mcolor\u001b[0m\u001b[0;34m=\u001b[0m\u001b[0mcolors\u001b[0m\u001b[0;34m[\u001b[0m\u001b[0;36m0\u001b[0m\u001b[0;34m]\u001b[0m\u001b[0;34m,\u001b[0m \u001b[0mlabel\u001b[0m\u001b[0;34m=\u001b[0m\u001b[0;34m\"Train\"\u001b[0m\u001b[0;34m\u001b[0m\u001b[0;34m\u001b[0m\u001b[0m\n\u001b[0m\u001b[1;32m      8\u001b[0m         )\n\u001b[1;32m      9\u001b[0m         plt.plot(\n",
      "\u001b[0;31mKeyError\u001b[0m: 'accuracy'"
     ]
    },
    {
     "data": {
      "image/png": "[encoded data removed]",
      "text/plain": [
       "<Figure size 720x720 with 2 Axes>"
      ]
     },
     "metadata": {
      "needs_background": "light"
     },
     "output_type": "display_data"
    }
   ],
   "source": [
    "plot_metrics(history)"
   ]
  },
  {
   "cell_type": "markdown",
   "metadata": {},
   "source": [
    "y_val and scores are one_hot_encoded, so I need to take the argmax to get the right label. "
   ]
  },
  {
   "cell_type": "code",
   "execution_count": 42,
   "metadata": {},
   "outputs": [],
   "source": [
    "scores = model.predict(X_val)\n",
    "y_hat = np.argmax(scores,axis=1)\n",
    "\n",
    "y_val = np.argmax(y_val,axis=1)"
   ]
  },
  {
   "cell_type": "markdown",
   "metadata": {},
   "source": [
    "First, I'm impressed, how easy this was to implement and also, that it worked. Compared with our baseline model, this approach is weaker in every category. Probably with some hyperparameter tuning better results can be achieved. "
   ]
  },
  {
   "cell_type": "code",
   "execution_count": 43,
   "metadata": {},
   "outputs": [
    {
     "name": "stdout",
     "output_type": "stream",
     "text": [
      "                     precision    recall  f1-score   support\n",
      "\n",
      "alice_in_wonderland       0.75      0.56      0.64       109\n",
      "            dracula       0.69      0.70      0.69       692\n",
      "          dubliners       0.38      0.33      0.35       294\n",
      " great_expectations       0.72      0.74      0.73       805\n",
      "         hard_times       0.78      0.79      0.78       467\n",
      "   huckleberry_finn       0.75      0.88      0.81       457\n",
      "      les_miserable       0.78      0.74      0.76       845\n",
      "          moby_dick       0.88      0.79      0.83      1019\n",
      "       oliver_twist       0.94      0.71      0.81       727\n",
      "          peter_pan       0.30      0.40      0.34       196\n",
      " tale_of_two_cities       0.46      0.68      0.55       610\n",
      "         tom_sawyer       0.69      0.45      0.55       282\n",
      "\n",
      "           accuracy                           0.70      6503\n",
      "          macro avg       0.68      0.65      0.65      6503\n",
      "       weighted avg       0.73      0.70      0.71      6503\n",
      "\n"
     ]
    }
   ],
   "source": [
    "print(classification_report(y_val, y_hat, target_names=label_list))"
   ]
  },
  {
   "cell_type": "code",
   "execution_count": 44,
   "metadata": {},
   "outputs": [
    {
     "data": {
      "text/plain": [
       "<sklearn.metrics._plot.confusion_matrix.ConfusionMatrixDisplay at 0x7fc60b9d7dd8>"
      ]
     },
     "execution_count": 44,
     "metadata": {},
     "output_type": "execute_result"
    },
    {
     "data": {
      "image/png": "[encoded data removed]",
      "text/plain": [
       "<Figure size 720x720 with 2 Axes>"
      ]
     },
     "metadata": {
      "needs_background": "light"
     },
     "output_type": "display_data"
    }
   ],
   "source": [
    "cm = confusion_matrix(y_val, y_hat)\n",
    "disp = ConfusionMatrixDisplay(confusion_matrix=cm,\n",
    "                              display_labels=label_list)\n",
    "\n",
    "disp.plot(xticks_rotation=\"vertical\") "
   ]
  },
  {
   "cell_type": "markdown",
   "metadata": {},
   "source": [
    "## Summary and Outlook"
   ]
  },
  {
   "cell_type": "markdown",
   "metadata": {},
   "source": [
    "This is a bit embarrassing, but my baseline model is better than the char-CNN. So I will use the fasttext model for my test predictions."
   ]
  },
  {
   "cell_type": "markdown",
   "metadata": {},
   "source": [
    "## Test prediction"
   ]
  },
  {
   "cell_type": "markdown",
   "metadata": {},
   "source": [
    "I got a F1-score of 0.83 on the validation dataset. Since I used the validation set also for hyperparameter search, I definitely introduced the model to some bias in the data. On the test set, I expect  drop of the overall F1-Score to around 0.78 - 0.80. "
   ]
  },
  {
   "cell_type": "code",
   "execution_count": 46,
   "metadata": {},
   "outputs": [
    {
     "name": "stderr",
     "output_type": "stream",
     "text": [
      "Warning : `load_model` does not return WordVectorModel or SupervisedModel any more, but a `FastText` object which is very similar.\n"
     ]
    }
   ],
   "source": [
    "# model = fasttext.load_model(\"baseline.bin\")\n",
    "model = fasttext.load_model(\"fasttext_homework.bin\")"
   ]
  },
  {
   "cell_type": "code",
   "execution_count": 47,
   "metadata": {},
   "outputs": [],
   "source": [
    "y_hat_test = []\n",
    "\n",
    "for text in test_data:\n",
    "    result = model.predict(text)\n",
    "    y_hat_test.append(result[0][0].replace(\"__label__\", \"\"))"
   ]
  },
  {
   "cell_type": "code",
   "execution_count": 48,
   "metadata": {},
   "outputs": [],
   "source": [
    "assert len(test_data) == len(y_hat_test)"
   ]
  },
  {
   "cell_type": "code",
   "execution_count": 49,
   "metadata": {},
   "outputs": [],
   "source": [
    "utils.save_text(Path(folder_path, results_file), y_hat_test)"
   ]
  },
  {
   "cell_type": "code",
   "execution_count": null,
   "metadata": {},
   "outputs": [],
   "source": []
  }
 ],
 "metadata": {
  "kernelspec": {
   "display_name": "Python 3",
   "language": "python",
   "name": "python3"
  },
  "language_info": {
   "codemirror_mode": {
    "name": "ipython",
    "version": 3
   },
   "file_extension": ".py",
   "mimetype": "text/x-python",
   "name": "python",
   "nbconvert_exporter": "python",
   "pygments_lexer": "ipython3",
   "version": "3.7.3"
  }
 },
 "nbformat": 4,
 "nbformat_minor": 5
}
