{
 "cells": [
  {
   "cell_type": "code",
   "execution_count": 1,
   "metadata": {},
   "outputs": [
    {
     "name": "stdout",
     "output_type": "stream",
     "text": [
      "['mary', ',', 'do', \"n't\", 'slap', 'the', 'green', 'witch', '!']\n"
     ]
    }
   ],
   "source": [
    "# from pprintpp import pprint\n",
    "import spacy\n",
    "import nltk\n",
    "# from spacy import displacy\n",
    "# from collections import Counter\n",
    "import en_core_web_sm\n",
    "nlp = en_core_web_sm.load()\n",
    "text = \"Mary, don't slap the green witch!\"\n",
    "sp_text = [str(token) for token in nlp(text.lower())]\n",
    "sp_text2 = nlp(\"he was running late\")\n",
    "sp_text3 = nlp(\"Mary slapped the green witch!\")\n",
    "print(sp_text)"
   ]
  },
  {
   "cell_type": "code",
   "execution_count": 2,
   "metadata": {},
   "outputs": [
    {
     "name": "stdout",
     "output_type": "stream",
     "text": [
      "['snow', 'white', 'and', 'the', 'seven', 'degrees', '#makeamoviecold', '@midnight', ':-)']\n"
     ]
    }
   ],
   "source": [
    "tweet = u\"\"\"Snow White and the Seven Degrees\n",
    "            #MakeAMovieCold@midnight:-)\"\"\"\n",
    "tokenizer = nltk.tokenize.TweetTokenizer()\n",
    "print(tokenizer.tokenize(tweet.lower()))"
   ]
  },
  {
   "cell_type": "code",
   "execution_count": 3,
   "metadata": {},
   "outputs": [],
   "source": [
    "def n_grams(text, n):\n",
    "    '''\n",
    "    takes tokens or text, int. returns a lost of ngrams\n",
    "    '''\n",
    "    return([text[i:i+n] for i in range(len(text)-n+1)])"
   ]
  },
  {
   "cell_type": "code",
   "execution_count": 4,
   "metadata": {},
   "outputs": [
    {
     "name": "stdout",
     "output_type": "stream",
     "text": [
      "[['mary', ',', 'do'], [',', 'do', \"n't\"], ['do', \"n't\", 'slap'], [\"n't\", 'slap', 'the'], ['slap', 'the', 'green'], ['the', 'green', 'witch'], ['green', 'witch', '!']]\n",
      "\n",
      "he --> -PRON-\n",
      "was --> be\n",
      "running --> run\n",
      "late --> late\n",
      "\n",
      "Mary --> PROPN\n",
      "slapped --> VERB\n",
      "the --> DET\n",
      "green --> ADJ\n",
      "witch --> NOUN\n",
      "! --> PUNCT\n",
      "\n",
      "Mary --> NP\n",
      "the green witch --> NP\n",
      "\n"
     ]
    }
   ],
   "source": [
    "print(n_grams(sp_text, 3))\n",
    "print()\n",
    "for token in sp_text2:\n",
    "    print('{} --> {}'.format(token, token.lemma_))\n",
    "print()\n",
    "for token in sp_text3:\n",
    "    print('{} --> {}'.format(token, token.pos_))\n",
    "print()\n",
    "for chunk in sp_text3.noun_chunks:\n",
    "    print('{} --> {}'.format(chunk, chunk.label_))\n",
    "print()"
   ]
  },
  {
   "cell_type": "code",
   "execution_count": null,
   "metadata": {},
   "outputs": [],
   "source": []
  }
 ],
 "metadata": {
  "kernelspec": {
   "display_name": "Python 3",
   "language": "python",
   "name": "python3"
  },
  "language_info": {
   "codemirror_mode": {
    "name": "ipython",
    "version": 3
   },
   "file_extension": ".py",
   "mimetype": "text/x-python",
   "name": "python",
   "nbconvert_exporter": "python",
   "pygments_lexer": "ipython3",
   "version": "3.6.7"
  }
 },
 "nbformat": 4,
 "nbformat_minor": 2
}
