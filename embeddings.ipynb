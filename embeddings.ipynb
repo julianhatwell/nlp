{
 "cells": [
  {
   "cell_type": "code",
   "execution_count": 20,
   "metadata": {},
   "outputs": [],
   "source": [
    "import torch\n",
    "import torch.nn as nn\n",
    "import torch.nn.functional as F\n",
    "import torch.optim as optim\n",
    "\n",
    "from gensim.models import FastText\n",
    "from gensim.models.fasttext import load_facebook_vectors\n",
    "import fasttext\n",
    "import io\n",
    "\n",
    "import pandas as pd\n",
    "from collections import Counter\n",
    "from torch.utils.data import DataLoader"
   ]
  },
  {
   "cell_type": "code",
   "execution_count": 2,
   "metadata": {},
   "outputs": [],
   "source": [
    "class CBOW(nn.Module):\n",
    "    def __init__(self, vocab_size, context_size, embedding_dim, hidden_dim):\n",
    "        super(CBOW, self).__init__()\n",
    "        self.vocab_size = vocab_size\n",
    "        self.embedding_dim = embedding_dim\n",
    "        self.context_size = context_size\n",
    "        \n",
    "        # nn.Embedding is a matrix of learnable weights, one row per word\n",
    "        self.embeddings = nn.Embedding(self.vocab_size, self.embedding_dim)\n",
    "        # embedding vectors to be projected into a hidden layer, context size * 2 because skip gram is bef-y-aft\n",
    "        self.linear1 = nn.Linear(self.context_size * 2 * self.embedding_dim, hidden_dim)\n",
    "        # finally fully connect and softmax to output is the target y in bef-y-aft\n",
    "        self.linear2 = nn.Linear(hidden_dim, self.vocab_size) # fully connect hidden layer to (log) softmax\n",
    "\n",
    "    def forward(self, inputs):\n",
    "        out = self.embeddings(inputs)\n",
    "        out = out.view(1, -1) # multiple words in the skipgram.\n",
    "        out = self.linear1(out)\n",
    "        out = F.relu(out)\n",
    "        out = self.linear2(out)\n",
    "        out = F.log_softmax(out, dim=1) # log probabilities\n",
    "        return(out)\n",
    "\n",
    "# function to create the context tensor\n",
    "def context_vector(context, word_to_ix):\n",
    "    return torch.tensor([word_to_ix[w] for w in context], dtype=torch.long)\n",
    "\n",
    "def target_index(target, word_to_ix):\n",
    "    return(torch.tensor([word_to_ix[target]], dtype=torch.long))\n",
    "\n",
    "def train(model, loss_function, optimiser, skipgrams, word_to_ix):\n",
    "    \n",
    "    device = torch.device('cuda' if torch.cuda.is_available() else \"cpu\")\n",
    "    model.to(device)\n",
    "    \n",
    "    losses = []\n",
    "    for epoch in range(10):\n",
    "        total_loss = 0\n",
    "        for batch, (context, target) in enumerate(skipgrams):\n",
    "\n",
    "            # Step 1. Prepare the inputs to be passed to the model (i.e, turn the words\n",
    "            # into integer indices and wrap them in tensors)\n",
    "            context_idxs = context_vector(context, word_to_ix)\n",
    "            \n",
    "            # Step 2. Recall that torch *accumulates* gradients. Before passing in a\n",
    "            # new instance, you need to zero out the gradients from the old\n",
    "            # instance\n",
    "            model.zero_grad()\n",
    "\n",
    "            # Step 3. Run the forward pass, getting log probabilities over next\n",
    "            # words\n",
    "            log_probs = model(context_idxs.to(device))\n",
    "\n",
    "            # Step 4. Compute your loss function. (Again, Torch wants the target\n",
    "            # word wrapped in a tensor)\n",
    "            target = target_index(target, word_to_ix)\n",
    "            loss = loss_function(log_probs, target.to(device))\n",
    "\n",
    "            # Step 5. Do the backward pass and update the gradient\n",
    "            loss.backward()\n",
    "            optimiser.step()\n",
    "\n",
    "            # Get the Python number from a 1-element Tensor by calling tensor.item()\n",
    "            total_loss += loss.item()\n",
    "            if batch % 10000 == 0:\n",
    "                print({ 'epoch': epoch, 'batch': batch, 'loss': loss.item() })\n",
    "        losses.append(total_loss)\n",
    "    return(losses)\n",
    "\n",
    "# similarity of two words\n",
    "def test(model, word_1, word_2, word_to_ix):\n",
    "    # test word similarity\n",
    "    word_1_vec = model.embeddings.weight[word_to_ix[word_1]]\n",
    "    word_2_vec = model.embeddings.weight[word_to_ix[word_2]]\n",
    "    \n",
    "    dot_product = word_1_vec.dot(word_2_vec)\n",
    "    norm = torch.norm(word_1_vec) * torch.norm(word_2_vec)\n",
    "    word_similarity = (dot_product / norm)\n",
    "    print(f\"Similarity between {word_1} & {word_2} : {word_similarity}\")\n",
    "    \n",
    "\n",
    "def create_skipgrams(text_stream, context_size):\n",
    "    # count unique\n",
    "    word_counts = Counter(text_stream)\n",
    "    vocab = sorted(word_counts, key=word_counts.get, reverse=True)\n",
    "    vocab_size = len(vocab)\n",
    "\n",
    "    word_to_ix = {word: i for i, word in enumerate(vocab)}\n",
    "    \n",
    "    skipgrams = []\n",
    "    for i in range(context_size, len(text_stream) - context_size):\n",
    "        context = (\n",
    "            [text_stream[i - j - 1] for j in range(context_size)],\n",
    "            [text_stream[i + j + 1] for j in range(context_size)]\n",
    "        )\n",
    "        context[0].reverse()\n",
    "        context = context[0] + context[1]\n",
    "        target = text_stream[i]\n",
    "        skipgrams.append((context, target))\n",
    "    return(vocab_size, word_to_ix, skipgrams)    "
   ]
  },
  {
   "cell_type": "code",
   "execution_count": 3,
   "metadata": {},
   "outputs": [],
   "source": [
    "context_size = 2  # before and after. consequently needs doubling when counting tensor sizes based on it.\n",
    "\n",
    "raw_text1 = \"\"\"When forty winters shall besiege thy brow,\n",
    "And dig deep trenches in thy beauty's field,\n",
    "Thy youth's proud livery so gazed on now,\n",
    "Will be a totter'd weed of small worth held:\n",
    "Then being asked, where all thy beauty lies,\n",
    "Where all the treasure of thy lusty days;\n",
    "To say, within thine own deep sunken eyes,\n",
    "Were an all-eating shame, and thriftless praise.\n",
    "How much more praise deserv'd thy beauty's use,\n",
    "If thou couldst answer 'This fair child of mine\n",
    "Shall sum my count, and make my old excuse,'\n",
    "Proving his beauty by succession thine!\n",
    "This were to be new made when thou art old,\n",
    "And see thy blood warm when thou feel'st it cold.\"\"\".split()\n",
    "\n",
    "raw_text = \"\"\"We are about to study the idea of a computational process.\n",
    "Computational processes are abstract beings that inhabit computers.\n",
    "As they evolve, processes manipulate other abstract things called data.\n",
    "The evolution of a process is directed by a pattern of rules\n",
    "called a program. People create programs to direct processes. In effect,\n",
    "we conjure the spirits of the computer with our spells.\"\"\".split()\n",
    "\n",
    "train_df = pd.read_csv('data/reddit-cleanjokes.csv')\n",
    "jokes = train_df['Joke'].str.cat(sep=' ')\n",
    "raw_jokes = jokes.split(' ')\n",
    "\n",
    "# need to do pre-processing (remove puncs, lower)\n",
    "# set up a padding idx so that the opening and closing words can be included.\n",
    "# how can stopwords be handled\n",
    "\n",
    "vocab_size, word_to_ix, skipgrams = create_skipgrams(raw_jokes, 2)"
   ]
  },
  {
   "cell_type": "code",
   "execution_count": 7,
   "metadata": {
    "scrolled": false
   },
   "outputs": [
    {
     "name": "stdout",
     "output_type": "stream",
     "text": [
      "{'epoch': 0, 'batch': 0, 'loss': 8.593474388122559}\n",
      "{'epoch': 0, 'batch': 10000, 'loss': 5.983700752258301}\n",
      "{'epoch': 0, 'batch': 20000, 'loss': 3.7963109016418457}\n",
      "{'epoch': 1, 'batch': 0, 'loss': 3.15470552444458}\n",
      "{'epoch': 1, 'batch': 10000, 'loss': 4.485655784606934}\n",
      "{'epoch': 1, 'batch': 20000, 'loss': 0.0182971004396677}\n",
      "{'epoch': 2, 'batch': 0, 'loss': 3.153709650039673}\n",
      "{'epoch': 2, 'batch': 10000, 'loss': 4.524255275726318}\n",
      "{'epoch': 2, 'batch': 20000, 'loss': 3.706634521484375}\n",
      "{'epoch': 3, 'batch': 0, 'loss': 3.1088781356811523}\n",
      "{'epoch': 3, 'batch': 10000, 'loss': 4.352497100830078}\n",
      "{'epoch': 3, 'batch': 20000, 'loss': 3.7364792823791504}\n",
      "{'epoch': 4, 'batch': 0, 'loss': 3.135406017303467}\n",
      "{'epoch': 4, 'batch': 10000, 'loss': 4.372165679931641}\n",
      "{'epoch': 4, 'batch': 20000, 'loss': 3.6914873123168945}\n",
      "{'epoch': 5, 'batch': 0, 'loss': 3.0685043334960938}\n",
      "{'epoch': 5, 'batch': 10000, 'loss': 4.469064712524414}\n",
      "{'epoch': 5, 'batch': 20000, 'loss': 3.723297357559204}\n",
      "{'epoch': 6, 'batch': 0, 'loss': 3.277862548828125}\n",
      "{'epoch': 6, 'batch': 10000, 'loss': 4.363101482391357}\n",
      "{'epoch': 6, 'batch': 20000, 'loss': 3.734449625015259}\n",
      "{'epoch': 7, 'batch': 0, 'loss': 3.132544994354248}\n",
      "{'epoch': 7, 'batch': 10000, 'loss': 4.351694107055664}\n",
      "{'epoch': 7, 'batch': 20000, 'loss': 3.723623514175415}\n",
      "{'epoch': 8, 'batch': 0, 'loss': 3.124476909637451}\n",
      "{'epoch': 8, 'batch': 10000, 'loss': 4.405002593994141}\n",
      "{'epoch': 8, 'batch': 20000, 'loss': 3.7293641567230225}\n",
      "{'epoch': 9, 'batch': 0, 'loss': 3.1575396060943604}\n",
      "{'epoch': 9, 'batch': 10000, 'loss': 4.362058639526367}\n",
      "{'epoch': 9, 'batch': 20000, 'loss': 3.7428126335144043}\n"
     ]
    }
   ],
   "source": [
    "embedding_dim = 128\n",
    "hidden_dim = 32\n",
    "learning_rate = 0.05\n",
    "model = CBOW(vocab_size, context_size, embedding_dim, hidden_dim)\n",
    "optimiser = optim.SGD(model.parameters(), lr=learning_rate)\n",
    "loss_function = nn.NLLLoss() # this is the loss function for multi-class with a log_softmax final layer\n",
    "\n",
    "losses = train(model, loss_function, optimiser, skipgrams, word_to_ix)"
   ]
  },
  {
   "cell_type": "code",
   "execution_count": 8,
   "metadata": {},
   "outputs": [
    {
     "name": "stdout",
     "output_type": "stream",
     "text": [
      "training loss captured\n",
      "[189333.9221344018, 171245.48541558493, 168841.02656311047, 167670.80985538344, 167353.86152805228, 167756.6030868171, 168678.98116172053, 169098.32764983742, 169428.90714260947, 169738.395093128]\n",
      "\n",
      "a sample of in_grams and targets\n",
      "[(['What', 'did', 'bartender', 'say'], 'the'), (['did', 'the', 'say', 'to'], 'bartender')]\n",
      "\n",
      "a context vector\n",
      "tensor([  2,   8, 248,  20])\n",
      "\n",
      "an embedding\n",
      "tensor([ 1.2659, -0.8588,  0.8405, -0.6843,  1.3552, -0.4044, -1.0121, -0.3106,\n",
      "         2.0615,  0.5692,  0.0199, -0.3875,  1.1145,  0.3165,  0.7183, -0.9846,\n",
      "        -1.2619, -0.7782,  1.4091,  0.6360, -0.8570,  1.4968,  0.6001, -0.9534,\n",
      "        -0.2191,  1.3916,  0.9696,  0.9899,  0.3182, -0.4750,  0.6714,  1.0217,\n",
      "        -1.4073,  0.9290, -1.2338, -1.3542, -1.0391,  0.9319,  1.0203, -0.7688,\n",
      "        -0.9297,  0.5050, -1.1625, -1.5972,  0.3227, -1.1030, -1.2720, -1.0534,\n",
      "        -0.7546,  0.8573, -0.0682,  0.8937, -1.7024, -1.1347, -1.2212,  0.4738,\n",
      "        -0.0481, -1.4430, -0.1769,  0.7199,  0.6166, -0.0450, -0.4823, -0.8961,\n",
      "        -0.3637, -0.8222, -0.9732,  0.2242,  1.7007, -0.3838,  0.7658,  1.4937,\n",
      "         0.6372,  0.4654,  0.0706,  1.7968, -0.5810,  0.3568, -0.1026, -0.6070,\n",
      "        -0.7752,  0.8016,  2.0617,  1.7843,  2.2385,  0.2280,  1.6210, -0.1808,\n",
      "         1.5900,  1.0072, -0.8307,  0.4357,  0.0224,  0.8371,  2.6915, -0.4504,\n",
      "        -0.4074,  0.5294,  2.1104, -1.1153, -0.6269,  0.2755, -0.5097, -0.8057,\n",
      "         0.7514, -0.2673,  3.1201,  0.1092, -0.1219, -2.0086,  0.9648,  1.0219,\n",
      "        -0.2709, -0.4578, -0.1964,  0.6409,  1.9025,  0.0333,  1.1648, -0.9705,\n",
      "        -1.5021,  0.9014,  1.0173,  0.9068, -1.6304,  0.4692, -0.6223, -0.1851],\n",
      "       device='cuda:0', grad_fn=<SelectBackward>)\n",
      "\n",
      "similarities\n",
      "Similarity between cat & dog : 0.08594372868537903\n",
      "Similarity between cat & bartender : -0.010889321565628052\n"
     ]
    }
   ],
   "source": [
    "print(\"training loss captured\")\n",
    "print(losses)  # The loss decreased every iteration over the training data!\n",
    "print()\n",
    "# take a look at a couple of them\n",
    "print(\"a sample of in_grams and targets\")\n",
    "print(skipgrams[:2])\n",
    "print()\n",
    "# converting to context vector\n",
    "print(\"a context vector\")\n",
    "print(context_vector(skipgrams[0][0], word_to_ix))  # example\n",
    "print()\n",
    "# To get the embedding of a particular word\n",
    "print(\"an embedding\")\n",
    "print(model.embeddings.weight[word_to_ix[\"to\"]]) # a word all sets will have in common\n",
    "print()\n",
    "print(\"similarities\")\n",
    "test(model, \"cat\", \"dog\", word_to_ix)\n",
    "test(model, \"cat\", \"bartender\", word_to_ix)"
   ]
  },
  {
   "cell_type": "code",
   "execution_count": 36,
   "metadata": {
    "scrolled": false
   },
   "outputs": [
    {
     "data": {
      "text/plain": [
       "[(0.9996886253356934, 'count'),\n",
       " (0.9996806979179382, 'get'),\n",
       " (0.9996606707572937, 'college?'),\n",
       " (0.9996600151062012, 'without'),\n",
       " (0.9996529221534729, 'through'),\n",
       " (0.9996510744094849, 'car?'),\n",
       " (0.9996461868286133, \"couldn't\"),\n",
       " (0.9996421337127686, 'left'),\n",
       " (0.9996353983879089, 'legs?'),\n",
       " (0.9996336698532104, 'that')]"
      ]
     },
     "execution_count": 36,
     "metadata": {},
     "output_type": "execute_result"
    }
   ],
   "source": [
    "# now with fasttext\n",
    "# needs a file\n",
    "with open(\"data/jokes_string.txt\",\"w\") as f:\n",
    "    f.write(jokes)\n",
    "\n",
    "model = fasttext.train_unsupervised(\"data/jokes_string.txt\", model=\"cbow\",\n",
    "                                    dim=32, # window=5,\n",
    "                                    minn=2, maxn=4,\n",
    "                                    epoch=10, lr=0.05)\n",
    "\n",
    "#  print([model.get_word_vector(x) for x in [\"asparagus\", \"pidgey\", \"yellow\"]])\n",
    "model.get_nearest_neighbors('cat')"
   ]
  },
  {
   "cell_type": "code",
   "execution_count": 67,
   "metadata": {},
   "outputs": [
    {
     "data": {
      "text/plain": [
       "(186541, 239140)"
      ]
     },
     "execution_count": 67,
     "metadata": {},
     "output_type": "execute_result"
    }
   ],
   "source": [
    "# with FastText curtesy of gensim\n",
    "model = FastText(vector_size=64, window=3, min_count=1)  # instantiate\n",
    "sentences = [j.split(\" \") for j in train_df['Joke']]\n",
    "model.build_vocab(sentences)\n",
    "model.train(sentences, total_examples=train_df['Joke'].count(), epochs=10)  # train"
   ]
  },
  {
   "cell_type": "code",
   "execution_count": 69,
   "metadata": {},
   "outputs": [
    {
     "data": {
      "text/plain": [
       "array([-0.0830541 , -0.20610413, -0.02786405,  0.21481003, -0.10866459,\n",
       "       -0.558164  , -0.6200512 ,  0.19819567, -0.315694  , -0.45674908,\n",
       "       -0.24560012,  0.5245908 ,  0.03480747,  0.38249454, -0.14317559,\n",
       "       -0.02465119, -0.01064481,  0.00741511, -0.735859  ,  0.37666684,\n",
       "       -0.7486268 , -0.0088387 ,  0.47247148,  0.30037135,  0.05788086,\n",
       "        0.3069808 , -0.4259284 ,  0.20305124,  0.48619732, -0.5880369 ,\n",
       "       -0.10926346, -0.143354  ,  0.2501288 , -0.24491423, -0.3084543 ,\n",
       "       -0.27975678, -0.3055602 , -0.47814012,  0.2035015 , -0.45709568,\n",
       "       -0.3310865 , -0.24251764,  0.73030865,  0.24830015, -0.41156146,\n",
       "       -0.3562771 ,  0.32073572, -0.20648572, -0.06289098,  0.33641177,\n",
       "        0.12991379,  0.11348884,  0.39474407,  0.45570472,  0.06986182,\n",
       "        0.14759685, -0.27532235, -0.28736055,  0.02858935, -0.34413934,\n",
       "        0.12848435, -0.37820527, -0.08179902, -0.13455968], dtype=float32)"
      ]
     },
     "execution_count": 69,
     "metadata": {},
     "output_type": "execute_result"
    }
   ],
   "source": [
    "model.wv[\"bartender\"]"
   ]
  },
  {
   "cell_type": "code",
   "execution_count": 70,
   "metadata": {},
   "outputs": [
    {
     "name": "stdout",
     "output_type": "stream",
     "text": [
      "No Python documentation found for 'load_facebook_vectors'.\n",
      "Use help() to get the interactive help utility.\n",
      "Use help(str) for help on the str class.\n",
      "\n"
     ]
    }
   ],
   "source": [
    "# (path, encoding='utf-8')\n",
    "help(\"load_facebook_vectors\")"
   ]
  },
  {
   "cell_type": "code",
   "execution_count": null,
   "metadata": {},
   "outputs": [],
   "source": []
  }
 ],
 "metadata": {
  "kernelspec": {
   "display_name": "Python 3",
   "language": "python",
   "name": "python3"
  },
  "language_info": {
   "codemirror_mode": {
    "name": "ipython",
    "version": 3
   },
   "file_extension": ".py",
   "mimetype": "text/x-python",
   "name": "python",
   "nbconvert_exporter": "python",
   "pygments_lexer": "ipython3",
   "version": "3.7.3"
  }
 },
 "nbformat": 4,
 "nbformat_minor": 2
}
